{
  "cells": [
    {
      "cell_type": "code",
      "execution_count": 1,
      "metadata": {
        "id": "Z-Rj57ndJ-e4"
      },
      "outputs": [],
      "source": [
        "# This Python 3 environment comes with many helpful analytics libraries installed\n",
        "# It is defined by the kaggle/python Docker image: https://github.com/kaggle/docker-python\n",
        "# For example, here's several helpful packages to load\n",
        "\n",
        "import numpy as np # linear algebra\n",
        "import pandas as pd # data processing, CSV file I/O (e.g. pd.read_csv)\n",
        "from sklearn.preprocessing import StandardScaler # standardize\n",
        "from sklearn.model_selection import train_test_split\n",
        "SEED = 100\n",
        "# Input data files are available in the read-only \"../input/\" directory\n",
        "# For example, running this (by clicking run or pressing Shift+Enter) will list all files under the input directory\n",
        "\n",
        "import os\n",
        "\n",
        "# You can write up to 20GB to the current directory (/kaggle/working/) that gets preserved as output when you create a version using \"Save & Run All\" \n",
        "# You can also write temporary files to /kaggle/temp/, but they won't be saved outside of the current session"
      ]
    },
    {
      "cell_type": "markdown",
      "metadata": {
        "id": "6KY2i3DtJ-e6"
      },
      "source": [
        "# Data Cleaning"
      ]
    },
    {
      "cell_type": "code",
      "execution_count": 4,
      "metadata": {
        "colab": {
          "base_uri": "https://localhost:8080/",
          "height": 456
        },
        "id": "Q-r2nhSzJ-fA",
        "outputId": "f0e311eb-ab4e-4f04-d53a-28b162d12472"
      },
      "outputs": [
        {
          "output_type": "execute_result",
          "data": {
            "text/plain": [
              "   uniqueid  year  personid   x1   x2   x3   x4  x5  x6   x7  ...  x1197  \\\n",
              "0  20053999  2005      3999  5.0  3.0  5.0  4.0 NaN NaN  5.0  ...    NaN   \n",
              "1  20053997  2005      3997  3.0  3.0  3.0  3.0 NaN NaN  NaN  ...    NaN   \n",
              "2  20053996  2005      3996  4.0  4.0  3.0  3.0 NaN NaN  NaN  ...    NaN   \n",
              "3  20053995  2005      3995  3.0  2.0  3.0  3.0 NaN NaN  5.0  ...    NaN   \n",
              "4  20053993  2005      3993  4.0  2.0  4.0  4.0 NaN NaN  2.0  ...    NaN   \n",
              "5  20053992  2005      3992  4.0  3.0  4.0  3.0 NaN NaN  6.0  ...    NaN   \n",
              "6  20053991  2005      3991  4.0  2.0  3.0  3.0 NaN NaN  3.0  ...    NaN   \n",
              "7  20053990  2005      3990  4.0  5.0  4.0  1.0 NaN NaN  5.0  ...    NaN   \n",
              "8  20053989  2005      3989  5.0  5.0  4.0  4.0 NaN NaN  NaN  ...    NaN   \n",
              "9  20053988  2005      3988  3.0  3.0  3.0  3.0 NaN NaN  2.0  ...    NaN   \n",
              "\n",
              "   x1198  x1199  x1200  x1201  x1202  x1203  x1204  x1205  health  \n",
              "0    NaN    NaN    NaN      2    160    1.0    4.0    NaN       2  \n",
              "1    NaN    NaN    NaN      2    140    3.0    5.0    NaN       3  \n",
              "2    NaN    NaN    NaN      2    140    3.0    5.0    NaN       5  \n",
              "3    NaN    NaN    NaN      2    150    1.0    5.0    NaN       3  \n",
              "4    NaN    NaN    NaN      2    130    5.0    8.0    NaN       3  \n",
              "5    NaN    NaN    NaN      1     30    1.0    7.0    NaN       3  \n",
              "6    NaN    NaN    NaN      2    160    1.0    4.0    NaN       1  \n",
              "7    NaN    NaN    NaN      2    150    1.0    1.0    NaN       1  \n",
              "8    NaN    NaN    NaN      2    150    1.0    1.0    NaN       4  \n",
              "9    NaN    NaN    NaN      2    160    3.0    3.0    NaN       2  \n",
              "\n",
              "[10 rows x 1209 columns]"
            ],
            "text/html": [
              "\n",
              "  <div id=\"df-e689a801-8c55-43e7-b139-ad2fbd9a8fb0\">\n",
              "    <div class=\"colab-df-container\">\n",
              "      <div>\n",
              "<style scoped>\n",
              "    .dataframe tbody tr th:only-of-type {\n",
              "        vertical-align: middle;\n",
              "    }\n",
              "\n",
              "    .dataframe tbody tr th {\n",
              "        vertical-align: top;\n",
              "    }\n",
              "\n",
              "    .dataframe thead th {\n",
              "        text-align: right;\n",
              "    }\n",
              "</style>\n",
              "<table border=\"1\" class=\"dataframe\">\n",
              "  <thead>\n",
              "    <tr style=\"text-align: right;\">\n",
              "      <th></th>\n",
              "      <th>uniqueid</th>\n",
              "      <th>year</th>\n",
              "      <th>personid</th>\n",
              "      <th>x1</th>\n",
              "      <th>x2</th>\n",
              "      <th>x3</th>\n",
              "      <th>x4</th>\n",
              "      <th>x5</th>\n",
              "      <th>x6</th>\n",
              "      <th>x7</th>\n",
              "      <th>...</th>\n",
              "      <th>x1197</th>\n",
              "      <th>x1198</th>\n",
              "      <th>x1199</th>\n",
              "      <th>x1200</th>\n",
              "      <th>x1201</th>\n",
              "      <th>x1202</th>\n",
              "      <th>x1203</th>\n",
              "      <th>x1204</th>\n",
              "      <th>x1205</th>\n",
              "      <th>health</th>\n",
              "    </tr>\n",
              "  </thead>\n",
              "  <tbody>\n",
              "    <tr>\n",
              "      <th>0</th>\n",
              "      <td>20053999</td>\n",
              "      <td>2005</td>\n",
              "      <td>3999</td>\n",
              "      <td>5.0</td>\n",
              "      <td>3.0</td>\n",
              "      <td>5.0</td>\n",
              "      <td>4.0</td>\n",
              "      <td>NaN</td>\n",
              "      <td>NaN</td>\n",
              "      <td>5.0</td>\n",
              "      <td>...</td>\n",
              "      <td>NaN</td>\n",
              "      <td>NaN</td>\n",
              "      <td>NaN</td>\n",
              "      <td>NaN</td>\n",
              "      <td>2</td>\n",
              "      <td>160</td>\n",
              "      <td>1.0</td>\n",
              "      <td>4.0</td>\n",
              "      <td>NaN</td>\n",
              "      <td>2</td>\n",
              "    </tr>\n",
              "    <tr>\n",
              "      <th>1</th>\n",
              "      <td>20053997</td>\n",
              "      <td>2005</td>\n",
              "      <td>3997</td>\n",
              "      <td>3.0</td>\n",
              "      <td>3.0</td>\n",
              "      <td>3.0</td>\n",
              "      <td>3.0</td>\n",
              "      <td>NaN</td>\n",
              "      <td>NaN</td>\n",
              "      <td>NaN</td>\n",
              "      <td>...</td>\n",
              "      <td>NaN</td>\n",
              "      <td>NaN</td>\n",
              "      <td>NaN</td>\n",
              "      <td>NaN</td>\n",
              "      <td>2</td>\n",
              "      <td>140</td>\n",
              "      <td>3.0</td>\n",
              "      <td>5.0</td>\n",
              "      <td>NaN</td>\n",
              "      <td>3</td>\n",
              "    </tr>\n",
              "    <tr>\n",
              "      <th>2</th>\n",
              "      <td>20053996</td>\n",
              "      <td>2005</td>\n",
              "      <td>3996</td>\n",
              "      <td>4.0</td>\n",
              "      <td>4.0</td>\n",
              "      <td>3.0</td>\n",
              "      <td>3.0</td>\n",
              "      <td>NaN</td>\n",
              "      <td>NaN</td>\n",
              "      <td>NaN</td>\n",
              "      <td>...</td>\n",
              "      <td>NaN</td>\n",
              "      <td>NaN</td>\n",
              "      <td>NaN</td>\n",
              "      <td>NaN</td>\n",
              "      <td>2</td>\n",
              "      <td>140</td>\n",
              "      <td>3.0</td>\n",
              "      <td>5.0</td>\n",
              "      <td>NaN</td>\n",
              "      <td>5</td>\n",
              "    </tr>\n",
              "    <tr>\n",
              "      <th>3</th>\n",
              "      <td>20053995</td>\n",
              "      <td>2005</td>\n",
              "      <td>3995</td>\n",
              "      <td>3.0</td>\n",
              "      <td>2.0</td>\n",
              "      <td>3.0</td>\n",
              "      <td>3.0</td>\n",
              "      <td>NaN</td>\n",
              "      <td>NaN</td>\n",
              "      <td>5.0</td>\n",
              "      <td>...</td>\n",
              "      <td>NaN</td>\n",
              "      <td>NaN</td>\n",
              "      <td>NaN</td>\n",
              "      <td>NaN</td>\n",
              "      <td>2</td>\n",
              "      <td>150</td>\n",
              "      <td>1.0</td>\n",
              "      <td>5.0</td>\n",
              "      <td>NaN</td>\n",
              "      <td>3</td>\n",
              "    </tr>\n",
              "    <tr>\n",
              "      <th>4</th>\n",
              "      <td>20053993</td>\n",
              "      <td>2005</td>\n",
              "      <td>3993</td>\n",
              "      <td>4.0</td>\n",
              "      <td>2.0</td>\n",
              "      <td>4.0</td>\n",
              "      <td>4.0</td>\n",
              "      <td>NaN</td>\n",
              "      <td>NaN</td>\n",
              "      <td>2.0</td>\n",
              "      <td>...</td>\n",
              "      <td>NaN</td>\n",
              "      <td>NaN</td>\n",
              "      <td>NaN</td>\n",
              "      <td>NaN</td>\n",
              "      <td>2</td>\n",
              "      <td>130</td>\n",
              "      <td>5.0</td>\n",
              "      <td>8.0</td>\n",
              "      <td>NaN</td>\n",
              "      <td>3</td>\n",
              "    </tr>\n",
              "    <tr>\n",
              "      <th>5</th>\n",
              "      <td>20053992</td>\n",
              "      <td>2005</td>\n",
              "      <td>3992</td>\n",
              "      <td>4.0</td>\n",
              "      <td>3.0</td>\n",
              "      <td>4.0</td>\n",
              "      <td>3.0</td>\n",
              "      <td>NaN</td>\n",
              "      <td>NaN</td>\n",
              "      <td>6.0</td>\n",
              "      <td>...</td>\n",
              "      <td>NaN</td>\n",
              "      <td>NaN</td>\n",
              "      <td>NaN</td>\n",
              "      <td>NaN</td>\n",
              "      <td>1</td>\n",
              "      <td>30</td>\n",
              "      <td>1.0</td>\n",
              "      <td>7.0</td>\n",
              "      <td>NaN</td>\n",
              "      <td>3</td>\n",
              "    </tr>\n",
              "    <tr>\n",
              "      <th>6</th>\n",
              "      <td>20053991</td>\n",
              "      <td>2005</td>\n",
              "      <td>3991</td>\n",
              "      <td>4.0</td>\n",
              "      <td>2.0</td>\n",
              "      <td>3.0</td>\n",
              "      <td>3.0</td>\n",
              "      <td>NaN</td>\n",
              "      <td>NaN</td>\n",
              "      <td>3.0</td>\n",
              "      <td>...</td>\n",
              "      <td>NaN</td>\n",
              "      <td>NaN</td>\n",
              "      <td>NaN</td>\n",
              "      <td>NaN</td>\n",
              "      <td>2</td>\n",
              "      <td>160</td>\n",
              "      <td>1.0</td>\n",
              "      <td>4.0</td>\n",
              "      <td>NaN</td>\n",
              "      <td>1</td>\n",
              "    </tr>\n",
              "    <tr>\n",
              "      <th>7</th>\n",
              "      <td>20053990</td>\n",
              "      <td>2005</td>\n",
              "      <td>3990</td>\n",
              "      <td>4.0</td>\n",
              "      <td>5.0</td>\n",
              "      <td>4.0</td>\n",
              "      <td>1.0</td>\n",
              "      <td>NaN</td>\n",
              "      <td>NaN</td>\n",
              "      <td>5.0</td>\n",
              "      <td>...</td>\n",
              "      <td>NaN</td>\n",
              "      <td>NaN</td>\n",
              "      <td>NaN</td>\n",
              "      <td>NaN</td>\n",
              "      <td>2</td>\n",
              "      <td>150</td>\n",
              "      <td>1.0</td>\n",
              "      <td>1.0</td>\n",
              "      <td>NaN</td>\n",
              "      <td>1</td>\n",
              "    </tr>\n",
              "    <tr>\n",
              "      <th>8</th>\n",
              "      <td>20053989</td>\n",
              "      <td>2005</td>\n",
              "      <td>3989</td>\n",
              "      <td>5.0</td>\n",
              "      <td>5.0</td>\n",
              "      <td>4.0</td>\n",
              "      <td>4.0</td>\n",
              "      <td>NaN</td>\n",
              "      <td>NaN</td>\n",
              "      <td>NaN</td>\n",
              "      <td>...</td>\n",
              "      <td>NaN</td>\n",
              "      <td>NaN</td>\n",
              "      <td>NaN</td>\n",
              "      <td>NaN</td>\n",
              "      <td>2</td>\n",
              "      <td>150</td>\n",
              "      <td>1.0</td>\n",
              "      <td>1.0</td>\n",
              "      <td>NaN</td>\n",
              "      <td>4</td>\n",
              "    </tr>\n",
              "    <tr>\n",
              "      <th>9</th>\n",
              "      <td>20053988</td>\n",
              "      <td>2005</td>\n",
              "      <td>3988</td>\n",
              "      <td>3.0</td>\n",
              "      <td>3.0</td>\n",
              "      <td>3.0</td>\n",
              "      <td>3.0</td>\n",
              "      <td>NaN</td>\n",
              "      <td>NaN</td>\n",
              "      <td>2.0</td>\n",
              "      <td>...</td>\n",
              "      <td>NaN</td>\n",
              "      <td>NaN</td>\n",
              "      <td>NaN</td>\n",
              "      <td>NaN</td>\n",
              "      <td>2</td>\n",
              "      <td>160</td>\n",
              "      <td>3.0</td>\n",
              "      <td>3.0</td>\n",
              "      <td>NaN</td>\n",
              "      <td>2</td>\n",
              "    </tr>\n",
              "  </tbody>\n",
              "</table>\n",
              "<p>10 rows × 1209 columns</p>\n",
              "</div>\n",
              "      <button class=\"colab-df-convert\" onclick=\"convertToInteractive('df-e689a801-8c55-43e7-b139-ad2fbd9a8fb0')\"\n",
              "              title=\"Convert this dataframe to an interactive table.\"\n",
              "              style=\"display:none;\">\n",
              "        \n",
              "  <svg xmlns=\"http://www.w3.org/2000/svg\" height=\"24px\"viewBox=\"0 0 24 24\"\n",
              "       width=\"24px\">\n",
              "    <path d=\"M0 0h24v24H0V0z\" fill=\"none\"/>\n",
              "    <path d=\"M18.56 5.44l.94 2.06.94-2.06 2.06-.94-2.06-.94-.94-2.06-.94 2.06-2.06.94zm-11 1L8.5 8.5l.94-2.06 2.06-.94-2.06-.94L8.5 2.5l-.94 2.06-2.06.94zm10 10l.94 2.06.94-2.06 2.06-.94-2.06-.94-.94-2.06-.94 2.06-2.06.94z\"/><path d=\"M17.41 7.96l-1.37-1.37c-.4-.4-.92-.59-1.43-.59-.52 0-1.04.2-1.43.59L10.3 9.45l-7.72 7.72c-.78.78-.78 2.05 0 2.83L4 21.41c.39.39.9.59 1.41.59.51 0 1.02-.2 1.41-.59l7.78-7.78 2.81-2.81c.8-.78.8-2.07 0-2.86zM5.41 20L4 18.59l7.72-7.72 1.47 1.35L5.41 20z\"/>\n",
              "  </svg>\n",
              "      </button>\n",
              "      \n",
              "  <style>\n",
              "    .colab-df-container {\n",
              "      display:flex;\n",
              "      flex-wrap:wrap;\n",
              "      gap: 12px;\n",
              "    }\n",
              "\n",
              "    .colab-df-convert {\n",
              "      background-color: #E8F0FE;\n",
              "      border: none;\n",
              "      border-radius: 50%;\n",
              "      cursor: pointer;\n",
              "      display: none;\n",
              "      fill: #1967D2;\n",
              "      height: 32px;\n",
              "      padding: 0 0 0 0;\n",
              "      width: 32px;\n",
              "    }\n",
              "\n",
              "    .colab-df-convert:hover {\n",
              "      background-color: #E2EBFA;\n",
              "      box-shadow: 0px 1px 2px rgba(60, 64, 67, 0.3), 0px 1px 3px 1px rgba(60, 64, 67, 0.15);\n",
              "      fill: #174EA6;\n",
              "    }\n",
              "\n",
              "    [theme=dark] .colab-df-convert {\n",
              "      background-color: #3B4455;\n",
              "      fill: #D2E3FC;\n",
              "    }\n",
              "\n",
              "    [theme=dark] .colab-df-convert:hover {\n",
              "      background-color: #434B5C;\n",
              "      box-shadow: 0px 1px 3px 1px rgba(0, 0, 0, 0.15);\n",
              "      filter: drop-shadow(0px 1px 2px rgba(0, 0, 0, 0.3));\n",
              "      fill: #FFFFFF;\n",
              "    }\n",
              "  </style>\n",
              "\n",
              "      <script>\n",
              "        const buttonEl =\n",
              "          document.querySelector('#df-e689a801-8c55-43e7-b139-ad2fbd9a8fb0 button.colab-df-convert');\n",
              "        buttonEl.style.display =\n",
              "          google.colab.kernel.accessAllowed ? 'block' : 'none';\n",
              "\n",
              "        async function convertToInteractive(key) {\n",
              "          const element = document.querySelector('#df-e689a801-8c55-43e7-b139-ad2fbd9a8fb0');\n",
              "          const dataTable =\n",
              "            await google.colab.kernel.invokeFunction('convertToInteractive',\n",
              "                                                     [key], {});\n",
              "          if (!dataTable) return;\n",
              "\n",
              "          const docLinkHtml = 'Like what you see? Visit the ' +\n",
              "            '<a target=\"_blank\" href=https://colab.research.google.com/notebooks/data_table.ipynb>data table notebook</a>'\n",
              "            + ' to learn more about interactive tables.';\n",
              "          element.innerHTML = '';\n",
              "          dataTable['output_type'] = 'display_data';\n",
              "          await google.colab.output.renderOutput(dataTable, element);\n",
              "          const docLink = document.createElement('div');\n",
              "          docLink.innerHTML = docLinkHtml;\n",
              "          element.appendChild(docLink);\n",
              "        }\n",
              "      </script>\n",
              "    </div>\n",
              "  </div>\n",
              "  "
            ]
          },
          "metadata": {},
          "execution_count": 4
        }
      ],
      "source": [
        "df = pd.read_csv('train.csv')\n",
        "df.head(10)"
      ]
    },
    {
      "cell_type": "code",
      "execution_count": 5,
      "metadata": {
        "id": "9AsQBz4vJ-fA"
      },
      "outputs": [],
      "source": [
        "X = df.loc[:, ~df.columns.isin(['uniqueid', 'health'])]\n",
        "y = df['health'].astype(str)"
      ]
    },
    {
      "cell_type": "code",
      "execution_count": 6,
      "metadata": {
        "id": "BP6Ho65CJ-fB"
      },
      "outputs": [],
      "source": [
        "# Split train and test data\n",
        "X_train, X_test, y_train, y_test = train_test_split(X, y, test_size=0.25, random_state=SEED, stratify=y)"
      ]
    },
    {
      "cell_type": "code",
      "execution_count": 7,
      "metadata": {
        "id": "vU5hvRbCJ-fB"
      },
      "outputs": [],
      "source": [
        "# drop columns with too many null values\n",
        "\n",
        "col_too_many_null = []\n",
        "\n",
        "for i in list(X_train.columns):\n",
        "    if X_train[i].isna().sum()/len(X_train) >= 0.85:\n",
        "        col_too_many_null.append(i)\n",
        "\n",
        "len(col_too_many_null)\n",
        "X_train = X_train.drop(col_too_many_null, axis=1)\n",
        "X_test =  X_test.drop(col_too_many_null, axis=1)"
      ]
    },
    {
      "cell_type": "code",
      "execution_count": null,
      "metadata": {
        "id": "DZuP3EZPJ-fB"
      },
      "outputs": [],
      "source": [
        "# draft\n",
        "# pd.set_option('display.max_rows', None)\n",
        "# X_train['xi7'] = X_train['x7'].fillna(X_train.groupby(['personid'])['x7'].transform('mean'))\n",
        "# X_train[['personid', 'x7', 'xi7']].sort_values('personid')\n",
        "\n",
        "# X_train['xi7'] = X_train.groupby('personid')['x7'].transform(lambda x: x.ffill().bfill())\n",
        "# X_train[['personid', 'year', 'x7', 'xi7']].sort_values('personid')"
      ]
    },
    {
      "cell_type": "code",
      "execution_count": null,
      "metadata": {
        "id": "kSL0G79cJ-fC"
      },
      "outputs": [],
      "source": [
        "# X_train.groupby(['personid', pd.Grouper(key='year')])['x7'].mean().ffill().reset_index()['x7']\n",
        "# X_train.sort_values('year')\n",
        "# X_test.sort_values('year')\n",
        "# for i in X_train.columns:\n",
        "#     X_train[i] = X_train.groupby('personid')[i].transform(lambda x: x.ffill().bfill())\n",
        "    \n",
        "# for i in X_test.columns:\n",
        "#     X_test[i] = X_test.groupby('personid')[i].transform(lambda x: x.ffill().bfill())    "
      ]
    },
    {
      "cell_type": "code",
      "execution_count": null,
      "metadata": {
        "id": "jUqSusPEJ-fC"
      },
      "outputs": [],
      "source": [
        "# X_train.to_csv('X_train.csv', index=False)\n",
        "# X_test.to_csv('X_test.csv', index=False)"
      ]
    },
    {
      "cell_type": "code",
      "execution_count": null,
      "metadata": {
        "id": "cU7zS83-J-fC"
      },
      "outputs": [],
      "source": [
        "# X_train = pd.read_csv('X_train.csv')\n",
        "# X_test = pd.read_csv('X_test.csv')"
      ]
    },
    {
      "cell_type": "code",
      "execution_count": null,
      "metadata": {
        "id": "-eqT_QNNJ-fD"
      },
      "outputs": [],
      "source": [
        "# import sys\n",
        "# !{sys.executable} -m pip install missingpy"
      ]
    },
    {
      "cell_type": "code",
      "execution_count": 8,
      "metadata": {
        "id": "7rj_rzKItdai",
        "colab": {
          "base_uri": "https://localhost:8080/"
        },
        "outputId": "acd778e6-2f6f-4828-c0fa-67ec85eedd8f"
      },
      "outputs": [
        {
          "output_type": "execute_result",
          "data": {
            "text/plain": [
              "0    3.0\n",
              "dtype: float64"
            ]
          },
          "metadata": {},
          "execution_count": 8
        }
      ],
      "source": [
        "X_train['x3'].mode()"
      ]
    },
    {
      "cell_type": "code",
      "execution_count": 9,
      "metadata": {
        "id": "2tPRgf3uSMo6"
      },
      "outputs": [],
      "source": [
        "# Impute null value with mode\n",
        "for i in list(X_train.columns):\n",
        "    X_train[i] = X_train[i].fillna(X_train[i].mode()[0])\n",
        "for i in list(X_test.columns):\n",
        "    X_test[i] = X_test[i].fillna(X_test[i].mode()[0])"
      ]
    },
    {
      "cell_type": "code",
      "execution_count": null,
      "metadata": {
        "id": "cw1Cem9fSgwy"
      },
      "outputs": [],
      "source": [
        "# train_id_count = X_train.groupby('personid').size().reset_index(name='id_counts')\n",
        "# test_id_count = X_test.groupby('personid').size().reset_index(name='id_counts')"
      ]
    },
    {
      "cell_type": "code",
      "execution_count": null,
      "metadata": {
        "id": "MJneL-DKTV5D"
      },
      "outputs": [],
      "source": [
        "# X_train = X_train.merge(train_id_count, on='personid', how='left').drop('id_count', axis=1)"
      ]
    },
    {
      "cell_type": "code",
      "execution_count": null,
      "metadata": {
        "id": "CJyMr80AVHtu"
      },
      "outputs": [],
      "source": [
        "# X_test = X_test.merge(test_id_count, on='personid', how='left')"
      ]
    },
    {
      "cell_type": "code",
      "execution_count": null,
      "metadata": {
        "id": "zilbG9LfJ-fD"
      },
      "outputs": [],
      "source": [
        "# import sklearn.neighbors._base\n",
        "# sys.modules['sklearn.neighbors.base'] = sklearn.neighbors._base"
      ]
    },
    {
      "cell_type": "code",
      "execution_count": null,
      "metadata": {
        "id": "UBxyMTnhJ-fE"
      },
      "outputs": [],
      "source": [
        "# from missingpy import MissForest\n",
        "\n",
        "# # Make an instance and perform the imputation\n",
        "# imputer = MissForest(random_state=SEED, max_iter = 3)\n",
        "# imputer.fit(X_train)\n",
        "# imputed_train = imputer.transform(X_train)\n",
        "# imputed_test = imputer.transform(X_test)"
      ]
    },
    {
      "cell_type": "code",
      "execution_count": null,
      "metadata": {
        "id": "vhDGeAbEJ-fE"
      },
      "outputs": [],
      "source": [
        "# X_train = pd.DataFrame(imputed_train, columns=X_train.columns)\n",
        "# X_test = pd.DataFrame(imputed_test, columns = X_test.columns)"
      ]
    },
    {
      "cell_type": "code",
      "execution_count": 10,
      "metadata": {
        "colab": {
          "base_uri": "https://localhost:8080/"
        },
        "id": "fV8Au3dCJ-fF",
        "outputId": "ebd6c9ab-2679-4c5d-f2d8-81d7b653c647"
      },
      "outputs": [
        {
          "output_type": "stream",
          "name": "stdout",
          "text": [
            "766\n",
            "771\n"
          ]
        }
      ],
      "source": [
        "print(len(X_train.columns))\n",
        "\n",
        "# Convert Year column to categorical variable\n",
        "X_train['year'] = X_train['year'].astype(str)\n",
        "X_train = pd.get_dummies(X_train, columns=['year'], drop_first = True)\n",
        "X_test['year'] = X_test['year'].astype(str)\n",
        "X_test = pd.get_dummies(X_test, columns=['year'], drop_first = True)\n",
        "\n",
        "print(len(X_train.columns))"
      ]
    },
    {
      "cell_type": "code",
      "execution_count": 11,
      "metadata": {
        "id": "ctoNBysa_hkw"
      },
      "outputs": [],
      "source": [
        "from sklearn.feature_selection import VarianceThreshold\n",
        "sel_variance_threshold = VarianceThreshold() \n",
        "X_train_remove_variance = sel_variance_threshold.fit_transform(X_train)\n",
        "X_test_remove_variance = sel_variance_threshold.transform(X_test)"
      ]
    },
    {
      "cell_type": "code",
      "execution_count": 12,
      "metadata": {
        "id": "uHgX70sQACVy",
        "colab": {
          "base_uri": "https://localhost:8080/"
        },
        "outputId": "6aaf7a81-e7c9-41b6-e4c7-8c312a3a3201"
      },
      "outputs": [
        {
          "output_type": "stream",
          "name": "stdout",
          "text": [
            "(13048, 771)\n"
          ]
        }
      ],
      "source": [
        "print(X_train_remove_variance.shape)"
      ]
    },
    {
      "cell_type": "code",
      "execution_count": 13,
      "metadata": {
        "colab": {
          "base_uri": "https://localhost:8080/"
        },
        "id": "0XZXLMsvAydQ",
        "outputId": "84df2b2b-71dc-4978-988a-79162d5f1fd7",
        "scrolled": true
      },
      "outputs": [
        {
          "output_type": "stream",
          "name": "stdout",
          "text": [
            "[False False  True False  True False False False False False False False\n",
            " False False False False False False False False False False False False\n",
            " False False False False False False False False False False False False\n",
            " False False False False False False False False False False False False\n",
            " False False False False False False False False False False False False\n",
            " False False False False False False False False False False False False\n",
            " False False False False False False False False False False False False\n",
            " False False False False False False False False False False False False\n",
            " False False False False False False False False False False False False\n",
            " False False False False  True False False False False False False False\n",
            " False False False False False False False False False False False False\n",
            " False False False False False False False False False False False False\n",
            " False False False False False False False False False False False False\n",
            " False False False False False False False False False False False False\n",
            " False False False False False False False False False False False False\n",
            " False False False False False False False False False False False False\n",
            " False False False False False False False False False False False False\n",
            " False False False False False False False False False False False False\n",
            " False False False False False False False False False False False False\n",
            " False False False False False False False False False False False False\n",
            " False False False False False False False False False False False False\n",
            " False False False False False False False False False False False False\n",
            " False False False False False False False False False False False False\n",
            " False False False False False False False False False False False False\n",
            " False False False False False False False False False False False False\n",
            " False False False False False False False False False False  True  True\n",
            " False False False  True  True False  True False False False False False\n",
            " False False False  True False False  True False False False False False\n",
            " False False False False False False False False False False False False\n",
            " False False False False False False False False False False False False\n",
            " False False False False False False False False False False False False\n",
            " False False False False False False False False False False False False\n",
            " False False False False False False False False False False False False\n",
            " False False False False False False False False False False False False\n",
            " False False False False False False False False False False False False\n",
            " False False False False False False False False False False False False\n",
            " False False False False False False False False False False False False\n",
            " False False  True False  True False False False  True False False False\n",
            " False False False False False False False False False False False False\n",
            "  True False False  True False False False False  True False False False\n",
            "  True  True False  True False False False False False False  True  True\n",
            "  True  True  True  True  True False  True  True False False  True  True\n",
            "  True  True False False False False False False False False False False\n",
            " False False False  True False False  True False False False False False\n",
            " False False False False False False False False False False False False\n",
            " False False False  True  True False  True False False False False False\n",
            " False False False False False False False False False False False False\n",
            " False False False False False False False False False False False False\n",
            " False False False False False  True False False False False False False\n",
            " False False False False False False False False False False False False\n",
            " False False False False False False False False False False False False\n",
            " False False False False False False False False False False False False\n",
            " False False False False  True False False False False False False False\n",
            " False False False False False False False False False False False False\n",
            " False False False False False False False False False False  True False\n",
            "  True False False False False False  True False False False False False\n",
            " False False  True False False False False False False  True False False\n",
            "  True  True False  True  True False False False False False False False\n",
            " False False False False False False False False False False False False\n",
            " False False False False False False False False False False False False\n",
            " False False False False False False False False False False False False\n",
            " False False False  True False False False False False False  True False\n",
            " False False False False False False False False False False False False\n",
            " False False False False False False False False False False False False\n",
            " False False False]\n"
          ]
        }
      ],
      "source": [
        "from sklearn.feature_selection import mutual_info_classif, SelectKBest\n",
        "sel_mutual = SelectKBest(mutual_info_classif, k=50)\n",
        "X_train_mutual = sel_mutual.fit_transform(X_train_remove_variance, y_train)\n",
        "X_test_mutual = sel_mutual.transform(X_test_remove_variance)\n",
        "print(sel_mutual.get_support())"
      ]
    },
    {
      "cell_type": "code",
      "execution_count": 15,
      "metadata": {
        "colab": {
          "base_uri": "https://localhost:8080/",
          "height": 265
        },
        "id": "SCaPrDJbbulw",
        "outputId": "68cb45b5-c1f8-4e02-d682-3eb66e4faaf6"
      },
      "outputs": [
        {
          "output_type": "display_data",
          "data": {
            "text/plain": [
              "<Figure size 432x288 with 1 Axes>"
            ],
            "image/png": "[encoded data removed]"
          },
          "metadata": {
            "needs_background": "light"
          }
        }
      ],
      "source": [
        "from sklearn.preprocessing import LabelEncoder\n",
        "import seaborn as sns \n",
        "from collections import Counter\n",
        "import matplotlib.pyplot as plt\n",
        "# label encode the target variable\n",
        "y = LabelEncoder().fit_transform(y)\n",
        "# summarize distribution\n",
        "counter = Counter(y)\n",
        "# plot the distribution\n",
        "plt.bar(counter.keys(), counter.values())\n",
        "plt.show()"
      ]
    },
    {
      "cell_type": "code",
      "source": [
        "dict = Counter(y)"
      ],
      "metadata": {
        "id": "YfshvDRbve8j"
      },
      "execution_count": 16,
      "outputs": []
    },
    {
      "cell_type": "code",
      "source": [
        "dict"
      ],
      "metadata": {
        "colab": {
          "base_uri": "https://localhost:8080/"
        },
        "id": "-Ng4XfsK7Qnq",
        "outputId": "f7896500-7e50-4cd9-98af-cf66d863bbd0"
      },
      "execution_count": 17,
      "outputs": [
        {
          "output_type": "execute_result",
          "data": {
            "text/plain": [
              "Counter({1: 7040, 2: 4732, 4: 690, 0: 3062, 3: 1874})"
            ]
          },
          "metadata": {},
          "execution_count": 17
        }
      ]
    },
    {
      "cell_type": "markdown",
      "metadata": {
        "id": "J1zqBfTCJ-fI"
      },
      "source": [
        "# Modelling"
      ]
    },
    {
      "cell_type": "code",
      "execution_count": 18,
      "metadata": {
        "id": "zDuK9-istdan"
      },
      "outputs": [],
      "source": [
        "from sklearn.preprocessing import StandardScaler\n",
        "scaler = StandardScaler()\n",
        "X_train_mutual_std = scaler.fit_transform(X_train_mutual)\n",
        "X_test_mutual_std = scaler.transform(X_test_mutual)"
      ]
    },
    {
      "cell_type": "code",
      "execution_count": 19,
      "metadata": {
        "id": "4jAc-eqotdao",
        "outputId": "08f0a441-aaf1-4df7-ad0e-c7b8d05d9f6b",
        "colab": {
          "base_uri": "https://localhost:8080/"
        }
      },
      "outputs": [
        {
          "output_type": "execute_result",
          "data": {
            "text/plain": [
              "0.45839080459770115"
            ]
          },
          "metadata": {},
          "execution_count": 19
        }
      ],
      "source": [
        "from sklearn.neighbors import KNeighborsClassifier\n",
        "neigh = KNeighborsClassifier(n_neighbors=400)\n",
        "neigh.fit(X_train_mutual_std, y_train)\n",
        "neigh.score(X_test_mutual_std, y_test)"
      ]
    },
    {
      "cell_type": "code",
      "execution_count": 20,
      "metadata": {
        "id": "garmDkNYtdao"
      },
      "outputs": [],
      "source": [
        "# use knn as a feature\n",
        "X_train_mutual = np.append(X_train_mutual, neigh.predict_proba(X_train_mutual_std), axis =1)\n",
        "X_test_mutual = np.append(X_test_mutual, neigh.predict_proba(X_test_mutual_std), axis =1)"
      ]
    },
    {
      "cell_type": "code",
      "execution_count": 21,
      "metadata": {
        "id": "1OXCLEsTJ-fJ",
        "colab": {
          "base_uri": "https://localhost:8080/"
        },
        "outputId": "f33a6402-cacc-4f6b-dfcf-a72472ff9e10"
      },
      "outputs": [
        {
          "output_type": "execute_result",
          "data": {
            "text/plain": [
              "2    0.404660\n",
              "3    0.271996\n",
              "1    0.175966\n",
              "4    0.107679\n",
              "5    0.039700\n",
              "Name: health, dtype: float64"
            ]
          },
          "metadata": {},
          "execution_count": 21
        }
      ],
      "source": [
        "pd.value_counts(y_train, normalize=True)"
      ]
    },
    {
      "cell_type": "code",
      "execution_count": 23,
      "metadata": {
        "id": "VfDZsfvKJ-fJ"
      },
      "outputs": [],
      "source": [
        "# Import libraries\n",
        "from sklearn.ensemble import RandomForestClassifier\n",
        "from sklearn.metrics import classification_report\n",
        "from sklearn.multioutput import MultiOutputClassifier\n",
        "from sklearn.linear_model import LogisticRegression\n",
        "from sklearn.svm import SVC\n",
        "from sklearn.model_selection import RandomizedSearchCV"
      ]
    },
    {
      "cell_type": "code",
      "execution_count": 24,
      "metadata": {
        "id": "EX_QVZ-oJ-fJ"
      },
      "outputs": [],
      "source": [
        "# Random Forest method\n",
        "clf = RandomForestClassifier(class_weight='balanced')\n",
        "clf.fit(X_train_mutual, y_train)\n",
        "params = {'n_estimators' : [100, 200],\n",
        "          'max_depth' : [5, 8, 15, 25, 30],\n",
        "          'min_samples_split' : [5, 10, 15],\n",
        "          'max_features': range(30, 50),\n",
        "          'class_weight': ['balanced', None]\n",
        "}\n",
        "\n",
        "random_search = RandomizedSearchCV(clf, params, n_iter=7, n_jobs=-1, scoring='neg_log_loss', random_state=0 )\n",
        "random_search.fit(X_train_mutual, y_train)\n",
        "clf = random_search.best_estimator_"
      ]
    },
    {
      "cell_type": "code",
      "execution_count": 25,
      "metadata": {
        "id": "hGV1zvHStdap",
        "colab": {
          "base_uri": "https://localhost:8080/"
        },
        "outputId": "14cc12b9-c950-4812-aa3c-4b9d0d9f7f9c"
      },
      "outputs": [
        {
          "output_type": "execute_result",
          "data": {
            "text/plain": [
              "0.4650574712643678"
            ]
          },
          "metadata": {},
          "execution_count": 25
        }
      ],
      "source": [
        "from  sklearn.model_selection import cross_val_score\n",
        "np.mean(cross_val_score(clf, X_test, y_test, cv=5, scoring='accuracy'))"
      ]
    },
    {
      "cell_type": "code",
      "execution_count": 26,
      "metadata": {
        "id": "GnVrgY6QOvwj",
        "colab": {
          "base_uri": "https://localhost:8080/"
        },
        "outputId": "cdcee4c6-c99c-4af1-9068-b850b8c22aa8"
      },
      "outputs": [
        {
          "output_type": "execute_result",
          "data": {
            "text/plain": [
              "(13048, 55)"
            ]
          },
          "metadata": {},
          "execution_count": 26
        }
      ],
      "source": [
        "X_train_mutual.shape"
      ]
    },
    {
      "cell_type": "code",
      "execution_count": 27,
      "metadata": {
        "id": "wu4dgNzotdap",
        "colab": {
          "base_uri": "https://localhost:8080/"
        },
        "outputId": "9098f32b-7875-479c-c642-2f8f31c92729"
      },
      "outputs": [
        {
          "output_type": "execute_result",
          "data": {
            "text/plain": [
              "0.4045977011494253"
            ]
          },
          "metadata": {},
          "execution_count": 27
        }
      ],
      "source": [
        "svc_clf = SVC(gamma='auto', decision_function_shape='ovr')\n",
        "svc_clf.fit(X_train_mutual, y_train)\n",
        "svc_clf.score(X_test_mutual, y_test)"
      ]
    },
    {
      "cell_type": "code",
      "execution_count": 28,
      "metadata": {
        "id": "XflN9K2rtdaq",
        "colab": {
          "base_uri": "https://localhost:8080/"
        },
        "outputId": "b56ff60b-b2d9-438c-c47d-cc661a50ab62"
      },
      "outputs": [
        {
          "output_type": "stream",
          "name": "stderr",
          "text": [
            "/usr/local/lib/python3.8/dist-packages/sklearn/linear_model/_logistic.py:814: ConvergenceWarning: lbfgs failed to converge (status=1):\n",
            "STOP: TOTAL NO. of ITERATIONS REACHED LIMIT.\n",
            "\n",
            "Increase the number of iterations (max_iter) or scale the data as shown in:\n",
            "    https://scikit-learn.org/stable/modules/preprocessing.html\n",
            "Please also refer to the documentation for alternative solver options:\n",
            "    https://scikit-learn.org/stable/modules/linear_model.html#logistic-regression\n",
            "  n_iter_i = _check_optimize_result(\n"
          ]
        },
        {
          "output_type": "execute_result",
          "data": {
            "text/plain": [
              "0.4691954022988506"
            ]
          },
          "metadata": {},
          "execution_count": 28
        }
      ],
      "source": [
        "# Logistic Regression model\n",
        "lr = LogisticRegression(multi_class='auto', max_iter = 10000)\n",
        "lr.fit(X_train_mutual, y_train)\n",
        "lr.score(X_test_mutual, y_test)"
      ]
    },
    {
      "cell_type": "code",
      "execution_count": 29,
      "metadata": {
        "id": "yreGZeYMJ-fQ",
        "scrolled": true,
        "colab": {
          "base_uri": "https://localhost:8080/"
        },
        "outputId": "2a1ccc55-dcdc-4a0f-891b-95443b519375"
      },
      "outputs": [
        {
          "output_type": "execute_result",
          "data": {
            "text/plain": [
              "0.4710344827586207"
            ]
          },
          "metadata": {},
          "execution_count": 29
        }
      ],
      "source": [
        "# xgboost\n",
        "from xgboost import XGBClassifier\n",
        "xgb = XGBClassifier(random_state=100)\n",
        "param_test1 = {\n",
        " 'max_depth':range(3,10,2),\n",
        " 'min_child_weight':range(1,6,2),\n",
        " 'gamma':[i/10.0 for i in range(0,5)],\n",
        " 'subsample':[i/10.0 for i in range(6,10)],\n",
        " 'colsample_bytree':[i/10.0 for i in range(6,10)],\n",
        " 'learning_rate': [0.01, 0.05, 0.1]\n",
        "}\n",
        "\n",
        "random_search = RandomizedSearchCV(xgb, param_test1, n_iter=5, n_jobs=-1, scoring='neg_log_loss', random_state=100 )\n",
        "random_search.fit(X_train_mutual, y_train)\n",
        "xgb = random_search.best_estimator_\n",
        "np.mean(cross_val_score(xgb, X_test_mutual, y_test, cv=5, scoring='accuracy'))"
      ]
    },
    {
      "cell_type": "code",
      "source": [
        "import six"
      ],
      "metadata": {
        "id": "vGJxqum0CEH0"
      },
      "execution_count": 36,
      "outputs": []
    },
    {
      "cell_type": "code",
      "execution_count": 33,
      "metadata": {
        "scrolled": true,
        "id": "N11pfCrvtdaq",
        "outputId": "cc458338-f349-41a5-87d1-3e89bff3d018",
        "colab": {
          "base_uri": "https://localhost:8080/"
        }
      },
      "outputs": [
        {
          "output_type": "execute_result",
          "data": {
            "text/plain": [
              "0.48022988505747133"
            ]
          },
          "metadata": {},
          "execution_count": 33
        }
      ],
      "source": [
        "# catboost\n",
        "from catboost import CatBoostClassifier\n",
        "from  sklearn.model_selection import cross_val_score\n",
        "cat = CatBoostClassifier(\n",
        "    iterations=1000, \n",
        "    learning_rate=0.01,\n",
        "    verbose=False\n",
        ")\n",
        "\n",
        "cat.fit(X_train_mutual, y_train)\n",
        "cat.score(X_test_mutual, y_test)\n",
        "np.mean(cross_val_score(cat, X_test_mutual, y_test, cv=5, scoring='accuracy'))"
      ]
    },
    {
      "cell_type": "code",
      "execution_count": 38,
      "metadata": {
        "id": "nB8z2BlQJ-fQ"
      },
      "outputs": [],
      "source": [
        "# Importing the necessary packages and libaries\n",
        "from sklearn.metrics import confusion_matrix\n",
        "from sklearn.model_selection import train_test_split\n",
        "from sklearn import svm, datasets\n",
        "import matplotlib.pyplot as plt\n",
        "import numpy as np"
      ]
    },
    {
      "cell_type": "code",
      "execution_count": 39,
      "metadata": {
        "id": "aEBCOWy1J-fQ",
        "colab": {
          "base_uri": "https://localhost:8080/"
        },
        "outputId": "5af53bae-0dc1-4edc-c522-3f9c27051f54"
      },
      "outputs": [
        {
          "output_type": "stream",
          "name": "stderr",
          "text": [
            "/usr/local/lib/python3.8/dist-packages/sklearn/svm/_base.py:284: ConvergenceWarning: Solver terminated early (max_iter=10000).  Consider pre-processing your data with StandardScaler or MinMaxScaler.\n",
            "  warnings.warn(\n"
          ]
        }
      ],
      "source": [
        "# linear = svm.SVC(kernel='linear', C=1, max_iter = 10000, decision_function_shape='ovo').fit(X_train_mutual, y_train)\n",
        "rbf = svm.SVC(kernel='rbf', gamma=1, C=1, max_iter = 10000, decision_function_shape='ovo').fit(X_train_mutual, y_train)\n",
        "# poly = svm.SVC(kernel='poly', degree=3, C=1, max_iter = 10000, decision_function_shape='ovo').fit(X_train_mutual, y_train)\n",
        "# sig = svm.SVC(kernel='sigmoid', C=1, max_iter = 10000, decision_function_shape='ovo').fit(X_train_mutual, y_train)"
      ]
    },
    {
      "cell_type": "code",
      "execution_count": 40,
      "metadata": {
        "id": "oA6lt360J-fQ"
      },
      "outputs": [],
      "source": [
        "rbf_pred = rbf.predict(X_test_mutual)\n",
        "accuracy_rbf = rbf.score(X_test_mutual, y_test)"
      ]
    },
    {
      "cell_type": "code",
      "execution_count": 41,
      "metadata": {
        "id": "N9Ix3NxyJ-fQ",
        "colab": {
          "base_uri": "https://localhost:8080/"
        },
        "outputId": "7909fd73-a049-4b1e-b5bd-62be540b4c97"
      },
      "outputs": [
        {
          "output_type": "execute_result",
          "data": {
            "text/plain": [
              "0.4045977011494253"
            ]
          },
          "metadata": {},
          "execution_count": 41
        }
      ],
      "source": [
        "accuracy_rbf"
      ]
    },
    {
      "cell_type": "markdown",
      "source": [
        "Based on the accuracy score, we can conclude that by using catboost and xgboost model, we can predict a better outcome. "
      ],
      "metadata": {
        "id": "aeyYpXMyGNG6"
      }
    },
    {
      "cell_type": "markdown",
      "metadata": {
        "id": "koJD-IBrtdav"
      },
      "source": [
        "# Test"
      ]
    },
    {
      "cell_type": "code",
      "execution_count": 43,
      "metadata": {
        "id": "gzj6bn-Rtdav"
      },
      "outputs": [],
      "source": [
        "test = pd.read_csv('test.csv')\n",
        "id_column = test['uniqueid']\n",
        "test = test.drop(['uniqueid'], axis=1)\n",
        "test = test.drop(col_too_many_null, axis=1)\n",
        "for i in list(test.columns):\n",
        "    test[i] = test[i].fillna(test[i].mode()[0])"
      ]
    },
    {
      "cell_type": "code",
      "execution_count": 44,
      "metadata": {
        "id": "EWG-X1GAtdaw"
      },
      "outputs": [],
      "source": [
        "test['year'] = test['year'].astype(str)\n",
        "test = pd.get_dummies(test, columns=['year'], drop_first = True)"
      ]
    },
    {
      "cell_type": "code",
      "execution_count": 45,
      "metadata": {
        "id": "jaX_yBXTtdaw",
        "outputId": "e51bbba0-4954-4171-af4b-247003c5359e",
        "colab": {
          "base_uri": "https://localhost:8080/"
        }
      },
      "outputs": [
        {
          "output_type": "stream",
          "name": "stdout",
          "text": [
            "year_2019\n"
          ]
        }
      ],
      "source": [
        "for col in list(test.columns):\n",
        "    if col not in list(X_train.columns):\n",
        "        print(col)\n",
        "        test= test.drop(col, axis=1)"
      ]
    },
    {
      "cell_type": "code",
      "execution_count": 46,
      "metadata": {
        "id": "H9HP-NLmtdaw"
      },
      "outputs": [],
      "source": [
        "# Perform the same preprocessing steps as we did for train data\n",
        "test_remove_variance = sel_variance_threshold.transform(test)\n",
        "test_mutual = sel_mutual.transform(test_remove_variance)\n",
        "test_mutual_std = scaler.transform(test_mutual)\n",
        "test_mutual = np.append(test_mutual, neigh.predict_proba(test_mutual_std), axis =1)"
      ]
    },
    {
      "cell_type": "code",
      "execution_count": 47,
      "metadata": {
        "id": "S6h64jvZtdaw"
      },
      "outputs": [],
      "source": [
        "result = cat.predict_proba(test_mutual)"
      ]
    },
    {
      "cell_type": "code",
      "execution_count": 48,
      "metadata": {
        "id": "xDUhXSlrtdaw",
        "outputId": "5373acbe-247a-468f-c5f4-e7bd05af94bf",
        "colab": {
          "base_uri": "https://localhost:8080/"
        }
      },
      "outputs": [
        {
          "output_type": "execute_result",
          "data": {
            "text/plain": [
              "array([[0.01537515, 0.20272254, 0.55602592, 0.17866287, 0.04721351],\n",
              "       [0.04423436, 0.19814091, 0.39450697, 0.26828371, 0.09483404],\n",
              "       [0.44131665, 0.46090017, 0.08249192, 0.01206511, 0.00322615],\n",
              "       ...,\n",
              "       [0.36053119, 0.47881173, 0.13132735, 0.02503942, 0.00429031],\n",
              "       [0.42011919, 0.46141409, 0.09370505, 0.0207811 , 0.00398057],\n",
              "       [0.06677089, 0.35332486, 0.41025667, 0.12797592, 0.04167165]])"
            ]
          },
          "metadata": {},
          "execution_count": 48
        }
      ],
      "source": [
        "result"
      ]
    },
    {
      "cell_type": "code",
      "execution_count": null,
      "metadata": {
        "id": "4M-kkwn3tdax",
        "outputId": "aaa021d6-b591-4586-dac0-03fed83752a0"
      },
      "outputs": [
        {
          "data": {
            "text/html": [
              "<div>\n",
              "<style scoped>\n",
              "    .dataframe tbody tr th:only-of-type {\n",
              "        vertical-align: middle;\n",
              "    }\n",
              "\n",
              "    .dataframe tbody tr th {\n",
              "        vertical-align: top;\n",
              "    }\n",
              "\n",
              "    .dataframe thead th {\n",
              "        text-align: right;\n",
              "    }\n",
              "</style>\n",
              "<table border=\"1\" class=\"dataframe\">\n",
              "  <thead>\n",
              "    <tr style=\"text-align: right;\">\n",
              "      <th></th>\n",
              "      <th>uniqueid</th>\n",
              "      <th>p1</th>\n",
              "      <th>p2</th>\n",
              "      <th>p3</th>\n",
              "      <th>p4</th>\n",
              "      <th>p5</th>\n",
              "    </tr>\n",
              "  </thead>\n",
              "  <tbody>\n",
              "    <tr>\n",
              "      <th>0</th>\n",
              "      <td>20053998</td>\n",
              "      <td>0.2</td>\n",
              "      <td>0.2</td>\n",
              "      <td>0.2</td>\n",
              "      <td>0.2</td>\n",
              "      <td>0.2</td>\n",
              "    </tr>\n",
              "    <tr>\n",
              "      <th>1</th>\n",
              "      <td>20053994</td>\n",
              "      <td>0.2</td>\n",
              "      <td>0.2</td>\n",
              "      <td>0.2</td>\n",
              "      <td>0.2</td>\n",
              "      <td>0.2</td>\n",
              "    </tr>\n",
              "    <tr>\n",
              "      <th>2</th>\n",
              "      <td>20053979</td>\n",
              "      <td>0.2</td>\n",
              "      <td>0.2</td>\n",
              "      <td>0.2</td>\n",
              "      <td>0.2</td>\n",
              "      <td>0.2</td>\n",
              "    </tr>\n",
              "    <tr>\n",
              "      <th>3</th>\n",
              "      <td>20053976</td>\n",
              "      <td>0.2</td>\n",
              "      <td>0.2</td>\n",
              "      <td>0.2</td>\n",
              "      <td>0.2</td>\n",
              "      <td>0.2</td>\n",
              "    </tr>\n",
              "    <tr>\n",
              "      <th>4</th>\n",
              "      <td>20053964</td>\n",
              "      <td>0.2</td>\n",
              "      <td>0.2</td>\n",
              "      <td>0.2</td>\n",
              "      <td>0.2</td>\n",
              "      <td>0.2</td>\n",
              "    </tr>\n",
              "    <tr>\n",
              "      <th>...</th>\n",
              "      <td>...</td>\n",
              "      <td>...</td>\n",
              "      <td>...</td>\n",
              "      <td>...</td>\n",
              "      <td>...</td>\n",
              "      <td>...</td>\n",
              "    </tr>\n",
              "    <tr>\n",
              "      <th>7437</th>\n",
              "      <td>2019527</td>\n",
              "      <td>0.2</td>\n",
              "      <td>0.2</td>\n",
              "      <td>0.2</td>\n",
              "      <td>0.2</td>\n",
              "      <td>0.2</td>\n",
              "    </tr>\n",
              "    <tr>\n",
              "      <th>7438</th>\n",
              "      <td>2019526</td>\n",
              "      <td>0.2</td>\n",
              "      <td>0.2</td>\n",
              "      <td>0.2</td>\n",
              "      <td>0.2</td>\n",
              "      <td>0.2</td>\n",
              "    </tr>\n",
              "    <tr>\n",
              "      <th>7439</th>\n",
              "      <td>2019525</td>\n",
              "      <td>0.2</td>\n",
              "      <td>0.2</td>\n",
              "      <td>0.2</td>\n",
              "      <td>0.2</td>\n",
              "      <td>0.2</td>\n",
              "    </tr>\n",
              "    <tr>\n",
              "      <th>7440</th>\n",
              "      <td>2019524</td>\n",
              "      <td>0.2</td>\n",
              "      <td>0.2</td>\n",
              "      <td>0.2</td>\n",
              "      <td>0.2</td>\n",
              "      <td>0.2</td>\n",
              "    </tr>\n",
              "    <tr>\n",
              "      <th>7441</th>\n",
              "      <td>2019523</td>\n",
              "      <td>0.2</td>\n",
              "      <td>0.2</td>\n",
              "      <td>0.2</td>\n",
              "      <td>0.2</td>\n",
              "      <td>0.2</td>\n",
              "    </tr>\n",
              "  </tbody>\n",
              "</table>\n",
              "<p>7442 rows × 6 columns</p>\n",
              "</div>"
            ],
            "text/plain": [
              "      uniqueid   p1   p2   p3   p4   p5\n",
              "0     20053998  0.2  0.2  0.2  0.2  0.2\n",
              "1     20053994  0.2  0.2  0.2  0.2  0.2\n",
              "2     20053979  0.2  0.2  0.2  0.2  0.2\n",
              "3     20053976  0.2  0.2  0.2  0.2  0.2\n",
              "4     20053964  0.2  0.2  0.2  0.2  0.2\n",
              "...        ...  ...  ...  ...  ...  ...\n",
              "7437   2019527  0.2  0.2  0.2  0.2  0.2\n",
              "7438   2019526  0.2  0.2  0.2  0.2  0.2\n",
              "7439   2019525  0.2  0.2  0.2  0.2  0.2\n",
              "7440   2019524  0.2  0.2  0.2  0.2  0.2\n",
              "7441   2019523  0.2  0.2  0.2  0.2  0.2\n",
              "\n",
              "[7442 rows x 6 columns]"
            ]
          },
          "execution_count": 58,
          "metadata": {},
          "output_type": "execute_result"
        }
      ],
      "source": [
        "sub = pd.read_csv('sample_submission.csv')\n",
        "sub"
      ]
    },
    {
      "cell_type": "code",
      "execution_count": null,
      "metadata": {
        "id": "nHLhhuWPtdax"
      },
      "outputs": [],
      "source": [
        "sub['p1'] = result[:,0]\n",
        "sub['p2'] = result[:,1]\n",
        "sub['p3'] = result[:,2]\n",
        "sub['p4'] = result[:,3]\n",
        "sub['p5'] = result[:,4]"
      ]
    },
    {
      "cell_type": "code",
      "execution_count": null,
      "metadata": {
        "id": "juxPdxNhtdax",
        "outputId": "f2564872-1994-4eaa-b165-9f828bdda21f"
      },
      "outputs": [
        {
          "data": {
            "text/html": [
              "<div>\n",
              "<style scoped>\n",
              "    .dataframe tbody tr th:only-of-type {\n",
              "        vertical-align: middle;\n",
              "    }\n",
              "\n",
              "    .dataframe tbody tr th {\n",
              "        vertical-align: top;\n",
              "    }\n",
              "\n",
              "    .dataframe thead th {\n",
              "        text-align: right;\n",
              "    }\n",
              "</style>\n",
              "<table border=\"1\" class=\"dataframe\">\n",
              "  <thead>\n",
              "    <tr style=\"text-align: right;\">\n",
              "      <th></th>\n",
              "      <th>uniqueid</th>\n",
              "      <th>p1</th>\n",
              "      <th>p2</th>\n",
              "      <th>p3</th>\n",
              "      <th>p4</th>\n",
              "      <th>p5</th>\n",
              "    </tr>\n",
              "  </thead>\n",
              "  <tbody>\n",
              "    <tr>\n",
              "      <th>0</th>\n",
              "      <td>20053998</td>\n",
              "      <td>0.015865</td>\n",
              "      <td>0.211477</td>\n",
              "      <td>0.563534</td>\n",
              "      <td>0.167903</td>\n",
              "      <td>0.041220</td>\n",
              "    </tr>\n",
              "    <tr>\n",
              "      <th>1</th>\n",
              "      <td>20053994</td>\n",
              "      <td>0.036917</td>\n",
              "      <td>0.155645</td>\n",
              "      <td>0.371032</td>\n",
              "      <td>0.307595</td>\n",
              "      <td>0.128811</td>\n",
              "    </tr>\n",
              "    <tr>\n",
              "      <th>2</th>\n",
              "      <td>20053979</td>\n",
              "      <td>0.472137</td>\n",
              "      <td>0.451669</td>\n",
              "      <td>0.065337</td>\n",
              "      <td>0.008126</td>\n",
              "      <td>0.002732</td>\n",
              "    </tr>\n",
              "    <tr>\n",
              "      <th>3</th>\n",
              "      <td>20053976</td>\n",
              "      <td>0.042826</td>\n",
              "      <td>0.294215</td>\n",
              "      <td>0.453955</td>\n",
              "      <td>0.165529</td>\n",
              "      <td>0.043475</td>\n",
              "    </tr>\n",
              "    <tr>\n",
              "      <th>4</th>\n",
              "      <td>20053964</td>\n",
              "      <td>0.003668</td>\n",
              "      <td>0.017257</td>\n",
              "      <td>0.123040</td>\n",
              "      <td>0.310135</td>\n",
              "      <td>0.545900</td>\n",
              "    </tr>\n",
              "    <tr>\n",
              "      <th>...</th>\n",
              "      <td>...</td>\n",
              "      <td>...</td>\n",
              "      <td>...</td>\n",
              "      <td>...</td>\n",
              "      <td>...</td>\n",
              "      <td>...</td>\n",
              "    </tr>\n",
              "    <tr>\n",
              "      <th>7437</th>\n",
              "      <td>2019527</td>\n",
              "      <td>0.311513</td>\n",
              "      <td>0.509461</td>\n",
              "      <td>0.146001</td>\n",
              "      <td>0.028804</td>\n",
              "      <td>0.004222</td>\n",
              "    </tr>\n",
              "    <tr>\n",
              "      <th>7438</th>\n",
              "      <td>2019526</td>\n",
              "      <td>0.130028</td>\n",
              "      <td>0.573740</td>\n",
              "      <td>0.240272</td>\n",
              "      <td>0.048842</td>\n",
              "      <td>0.007118</td>\n",
              "    </tr>\n",
              "    <tr>\n",
              "      <th>7439</th>\n",
              "      <td>2019525</td>\n",
              "      <td>0.415853</td>\n",
              "      <td>0.451842</td>\n",
              "      <td>0.105718</td>\n",
              "      <td>0.022837</td>\n",
              "      <td>0.003750</td>\n",
              "    </tr>\n",
              "    <tr>\n",
              "      <th>7440</th>\n",
              "      <td>2019524</td>\n",
              "      <td>0.412447</td>\n",
              "      <td>0.477296</td>\n",
              "      <td>0.087592</td>\n",
              "      <td>0.019535</td>\n",
              "      <td>0.003130</td>\n",
              "    </tr>\n",
              "    <tr>\n",
              "      <th>7441</th>\n",
              "      <td>2019523</td>\n",
              "      <td>0.050732</td>\n",
              "      <td>0.311152</td>\n",
              "      <td>0.441896</td>\n",
              "      <td>0.149662</td>\n",
              "      <td>0.046558</td>\n",
              "    </tr>\n",
              "  </tbody>\n",
              "</table>\n",
              "<p>7442 rows × 6 columns</p>\n",
              "</div>"
            ],
            "text/plain": [
              "      uniqueid        p1        p2        p3        p4        p5\n",
              "0     20053998  0.015865  0.211477  0.563534  0.167903  0.041220\n",
              "1     20053994  0.036917  0.155645  0.371032  0.307595  0.128811\n",
              "2     20053979  0.472137  0.451669  0.065337  0.008126  0.002732\n",
              "3     20053976  0.042826  0.294215  0.453955  0.165529  0.043475\n",
              "4     20053964  0.003668  0.017257  0.123040  0.310135  0.545900\n",
              "...        ...       ...       ...       ...       ...       ...\n",
              "7437   2019527  0.311513  0.509461  0.146001  0.028804  0.004222\n",
              "7438   2019526  0.130028  0.573740  0.240272  0.048842  0.007118\n",
              "7439   2019525  0.415853  0.451842  0.105718  0.022837  0.003750\n",
              "7440   2019524  0.412447  0.477296  0.087592  0.019535  0.003130\n",
              "7441   2019523  0.050732  0.311152  0.441896  0.149662  0.046558\n",
              "\n",
              "[7442 rows x 6 columns]"
            ]
          },
          "execution_count": 67,
          "metadata": {},
          "output_type": "execute_result"
        }
      ],
      "source": [
        "sub"
      ]
    },
    {
      "cell_type": "code",
      "execution_count": null,
      "metadata": {
        "id": "qH3rjEWFtdax"
      },
      "outputs": [],
      "source": [
        "sub.to_csv('cat.csv', index = 0)"
      ]
    },
    {
      "cell_type": "code",
      "execution_count": null,
      "metadata": {
        "id": "oENNT816tday"
      },
      "outputs": [],
      "source": []
    }
  ],
  "metadata": {
    "colab": {
      "provenance": []
    },
    "kernelspec": {
      "display_name": "Python 3",
      "language": "python",
      "name": "python3"
    },
    "language_info": {
      "codemirror_mode": {
        "name": "ipython",
        "version": 3
      },
      "file_extension": ".py",
      "mimetype": "text/x-python",
      "name": "python",
      "nbconvert_exporter": "python",
      "pygments_lexer": "ipython3",
      "version": "3.8.8"
    }
  },
  "nbformat": 4,
  "nbformat_minor": 0
}